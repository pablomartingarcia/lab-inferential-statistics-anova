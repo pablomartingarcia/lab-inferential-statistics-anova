{
 "cells": [
  {
   "cell_type": "code",
   "execution_count": 6,
   "id": "2c617c59",
   "metadata": {},
   "outputs": [
    {
     "name": "stdout",
     "output_type": "stream",
     "text": [
      "   Power  Total  Average\n",
      "0    160  28.96    5.792\n",
      "1    180  31.19    6.238\n",
      "2    200  41.59    8.318\n"
     ]
    }
   ],
   "source": [
    "data = {\n",
    "    'Power': [160, 180, 200],\n",
    "    'Total': [28.96, 31.19, 41.59],\n",
    "    'Average': [5.792, 6.238, 8.318]\n",
    "}\n",
    "\n",
    "import pandas as pd\n",
    "\n",
    "df = pd.DataFrame(data)\n",
    "print(df)"
   ]
  },
  {
   "cell_type": "code",
   "execution_count": 3,
   "id": "fe7dbeeb",
   "metadata": {},
   "outputs": [],
   "source": [
    "#1.1. \"The average total values for different power levels (160W, 180W, 200W) are equal, and any differences observed are due to random chance.\""
   ]
  },
  {
   "cell_type": "code",
   "execution_count": 4,
   "id": "c316fbdb",
   "metadata": {},
   "outputs": [],
   "source": [
    "#1.2. The average total values for different power levels (160W, 180W, 200W) are not equal, and the differences observed are not due to random chance."
   ]
  },
  {
   "cell_type": "code",
   "execution_count": 5,
   "id": "f048d156",
   "metadata": {},
   "outputs": [],
   "source": [
    "#1.3. 5%"
   ]
  },
  {
   "cell_type": "code",
   "execution_count": 7,
   "id": "91b8c16b",
   "metadata": {},
   "outputs": [],
   "source": [
    "#1.4. \n",
    "#DoF Model = k\n",
    "#DoF Error = n - k - 1\n",
    "#Total DoF = n - 1\n"
   ]
  },
  {
   "cell_type": "code",
   "execution_count": 8,
   "id": "27a691d0",
   "metadata": {},
   "outputs": [],
   "source": [
    "import scipy.stats as stats\n"
   ]
  },
  {
   "cell_type": "code",
   "execution_count": 10,
   "id": "5ed7d535",
   "metadata": {},
   "outputs": [],
   "source": [
    "power_160W_mean = 5.792  \n",
    "power_180W_mean = 6.238  \n",
    "power_200W_mean = 8.318  "
   ]
  },
  {
   "cell_type": "code",
   "execution_count": 11,
   "id": "d1f27fae",
   "metadata": {},
   "outputs": [
    {
     "name": "stderr",
     "output_type": "stream",
     "text": [
      "/Users/suso/anaconda3/lib/python3.11/site-packages/scipy/stats/_stats_py.py:4141: DegenerateDataWarning: all input arrays have length 1.  f_oneway requires that at least one input has length greater than 1.\n",
      "  warnings.warn(stats.DegenerateDataWarning(msg))\n"
     ]
    }
   ],
   "source": [
    "statistic, p_value = stats.f_oneway([power_160W_mean], [power_180W_mean], [power_200W_mean])"
   ]
  },
  {
   "cell_type": "code",
   "execution_count": 12,
   "id": "2227b5d2",
   "metadata": {},
   "outputs": [
    {
     "name": "stdout",
     "output_type": "stream",
     "text": [
      "Fail to reject the null hypothesis. There is no significant difference between the means.\n"
     ]
    }
   ],
   "source": [
    "alpha = 0.05\n",
    "if p_value < alpha:\n",
    "    print(\"Reject the null hypothesis. There is a significant difference between the means.\")\n",
    "else:\n",
    "    print(\"Fail to reject the null hypothesis. There is no significant difference between the means.\")"
   ]
  },
  {
   "cell_type": "code",
   "execution_count": null,
   "id": "c61bd10c",
   "metadata": {},
   "outputs": [],
   "source": []
  }
 ],
 "metadata": {
  "kernelspec": {
   "display_name": "Python 3 (ipykernel)",
   "language": "python",
   "name": "python3"
  },
  "language_info": {
   "codemirror_mode": {
    "name": "ipython",
    "version": 3
   },
   "file_extension": ".py",
   "mimetype": "text/x-python",
   "name": "python",
   "nbconvert_exporter": "python",
   "pygments_lexer": "ipython3",
   "version": "3.11.5"
  }
 },
 "nbformat": 4,
 "nbformat_minor": 5
}
